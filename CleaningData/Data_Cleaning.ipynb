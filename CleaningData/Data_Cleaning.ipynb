{
  "nbformat": 4,
  "nbformat_minor": 0,
  "metadata": {
    "colab": {
      "name": "Data Cleaning.ipynb",
      "provenance": [],
      "collapsed_sections": [
        "Meqvf1onSuuy",
        "airXo4e2Tlcr",
        "8JIfKJJsT7Pr",
        "iV3-YLAUboA2"
      ]
    },
    "kernelspec": {
      "name": "python3",
      "display_name": "Python 3"
    },
    "language_info": {
      "name": "python"
    }
  },
  "cells": [
    {
      "cell_type": "markdown",
      "source": [
        "# Import packages"
      ],
      "metadata": {
        "id": "Meqvf1onSuuy"
      }
    },
    {
      "cell_type": "code",
      "execution_count": 27,
      "metadata": {
        "id": "GIVRxjKDybMj"
      },
      "outputs": [],
      "source": [
        "import pandas as pd\n",
        "import numpy as np\n",
        "import seaborn as sns                       #visualisation\n",
        "import matplotlib.pyplot as plt"
      ]
    },
    {
      "cell_type": "markdown",
      "source": [
        "# Importing data\n"
      ],
      "metadata": {
        "id": "airXo4e2Tlcr"
      }
    },
    {
      "cell_type": "code",
      "source": [
        "##Uploading the data\n",
        "house_df=pd.read_csv('/content/drive/MyDrive/EnhanceIT/Aldo Cao Romero - raw_house_data.csv - Aldo Cao Romero - raw_house_data.csv.csv')\n",
        "##Shape of the Data\n",
        "print(house_df.shape)\n",
        "##Observing the first 5 rows\n",
        "house_df.head(5)\n"
      ],
      "metadata": {
        "colab": {
          "base_uri": "https://localhost:8080/",
          "height": 461
        },
        "id": "baDE5tQBykJd",
        "outputId": "5740213c-d632-4068-9fae-598b47bf4700"
      },
      "execution_count": 28,
      "outputs": [
        {
          "output_type": "stream",
          "name": "stdout",
          "text": [
            "(5000, 16)\n"
          ]
        },
        {
          "output_type": "execute_result",
          "data": {
            "text/plain": [
              "        MLS  sold_price  zipcode     longitude    latitude  lot_acres  \\\n",
              "0  21530491   5300000.0    85637    -1.103.782  31.356.362    2154.00   \n",
              "1  21529082   4200000.0    85646  -111.045.371  31.594.213    1707.00   \n",
              "2   3054672   4200000.0    85646  -111.040.707  31.594.844    1707.00   \n",
              "3  21919321   4500000.0    85646  -111.035.925  31.645.878     636.67   \n",
              "4  21306357   3411450.0    85750  -110.813.768  32.285.162       3.21   \n",
              "\n",
              "      taxes  year_built  bedrooms bathrooms sqrt_ft garage  \\\n",
              "0   5272.00        1941        13        10   10500      0   \n",
              "1  10422.36        1997         2         2    7300      0   \n",
              "2  10482.00        1997         2         3    None   None   \n",
              "3   8418.58        1930         7         5    9019      4   \n",
              "4  15393.00        1995         4         6    6396      3   \n",
              "\n",
              "                                    kitchen_features  fireplaces  \\\n",
              "0            Dishwasher, Freezer, Refrigerator, Oven         6.0   \n",
              "1                       Dishwasher, Garbage Disposal         5.0   \n",
              "2         Dishwasher, Garbage Disposal, Refrigerator         5.0   \n",
              "3  Dishwasher, Double Sink, Pantry: Butler, Refri...         4.0   \n",
              "4  Dishwasher, Garbage Disposal, Refrigerator, Mi...         5.0   \n",
              "\n",
              "                 floor_covering   HOA  \n",
              "0            Mexican Tile, Wood     0  \n",
              "1          Natural Stone, Other     0  \n",
              "2    Natural Stone, Other: Rock  None  \n",
              "3  Ceramic Tile, Laminate, Wood  None  \n",
              "4              Carpet, Concrete    55  "
            ],
            "text/html": [
              "\n",
              "  <div id=\"df-59a07b8b-4aa4-4cc1-93af-8afb3b51d0e1\">\n",
              "    <div class=\"colab-df-container\">\n",
              "      <div>\n",
              "<style scoped>\n",
              "    .dataframe tbody tr th:only-of-type {\n",
              "        vertical-align: middle;\n",
              "    }\n",
              "\n",
              "    .dataframe tbody tr th {\n",
              "        vertical-align: top;\n",
              "    }\n",
              "\n",
              "    .dataframe thead th {\n",
              "        text-align: right;\n",
              "    }\n",
              "</style>\n",
              "<table border=\"1\" class=\"dataframe\">\n",
              "  <thead>\n",
              "    <tr style=\"text-align: right;\">\n",
              "      <th></th>\n",
              "      <th>MLS</th>\n",
              "      <th>sold_price</th>\n",
              "      <th>zipcode</th>\n",
              "      <th>longitude</th>\n",
              "      <th>latitude</th>\n",
              "      <th>lot_acres</th>\n",
              "      <th>taxes</th>\n",
              "      <th>year_built</th>\n",
              "      <th>bedrooms</th>\n",
              "      <th>bathrooms</th>\n",
              "      <th>sqrt_ft</th>\n",
              "      <th>garage</th>\n",
              "      <th>kitchen_features</th>\n",
              "      <th>fireplaces</th>\n",
              "      <th>floor_covering</th>\n",
              "      <th>HOA</th>\n",
              "    </tr>\n",
              "  </thead>\n",
              "  <tbody>\n",
              "    <tr>\n",
              "      <th>0</th>\n",
              "      <td>21530491</td>\n",
              "      <td>5300000.0</td>\n",
              "      <td>85637</td>\n",
              "      <td>-1.103.782</td>\n",
              "      <td>31.356.362</td>\n",
              "      <td>2154.00</td>\n",
              "      <td>5272.00</td>\n",
              "      <td>1941</td>\n",
              "      <td>13</td>\n",
              "      <td>10</td>\n",
              "      <td>10500</td>\n",
              "      <td>0</td>\n",
              "      <td>Dishwasher, Freezer, Refrigerator, Oven</td>\n",
              "      <td>6.0</td>\n",
              "      <td>Mexican Tile, Wood</td>\n",
              "      <td>0</td>\n",
              "    </tr>\n",
              "    <tr>\n",
              "      <th>1</th>\n",
              "      <td>21529082</td>\n",
              "      <td>4200000.0</td>\n",
              "      <td>85646</td>\n",
              "      <td>-111.045.371</td>\n",
              "      <td>31.594.213</td>\n",
              "      <td>1707.00</td>\n",
              "      <td>10422.36</td>\n",
              "      <td>1997</td>\n",
              "      <td>2</td>\n",
              "      <td>2</td>\n",
              "      <td>7300</td>\n",
              "      <td>0</td>\n",
              "      <td>Dishwasher, Garbage Disposal</td>\n",
              "      <td>5.0</td>\n",
              "      <td>Natural Stone, Other</td>\n",
              "      <td>0</td>\n",
              "    </tr>\n",
              "    <tr>\n",
              "      <th>2</th>\n",
              "      <td>3054672</td>\n",
              "      <td>4200000.0</td>\n",
              "      <td>85646</td>\n",
              "      <td>-111.040.707</td>\n",
              "      <td>31.594.844</td>\n",
              "      <td>1707.00</td>\n",
              "      <td>10482.00</td>\n",
              "      <td>1997</td>\n",
              "      <td>2</td>\n",
              "      <td>3</td>\n",
              "      <td>None</td>\n",
              "      <td>None</td>\n",
              "      <td>Dishwasher, Garbage Disposal, Refrigerator</td>\n",
              "      <td>5.0</td>\n",
              "      <td>Natural Stone, Other: Rock</td>\n",
              "      <td>None</td>\n",
              "    </tr>\n",
              "    <tr>\n",
              "      <th>3</th>\n",
              "      <td>21919321</td>\n",
              "      <td>4500000.0</td>\n",
              "      <td>85646</td>\n",
              "      <td>-111.035.925</td>\n",
              "      <td>31.645.878</td>\n",
              "      <td>636.67</td>\n",
              "      <td>8418.58</td>\n",
              "      <td>1930</td>\n",
              "      <td>7</td>\n",
              "      <td>5</td>\n",
              "      <td>9019</td>\n",
              "      <td>4</td>\n",
              "      <td>Dishwasher, Double Sink, Pantry: Butler, Refri...</td>\n",
              "      <td>4.0</td>\n",
              "      <td>Ceramic Tile, Laminate, Wood</td>\n",
              "      <td>None</td>\n",
              "    </tr>\n",
              "    <tr>\n",
              "      <th>4</th>\n",
              "      <td>21306357</td>\n",
              "      <td>3411450.0</td>\n",
              "      <td>85750</td>\n",
              "      <td>-110.813.768</td>\n",
              "      <td>32.285.162</td>\n",
              "      <td>3.21</td>\n",
              "      <td>15393.00</td>\n",
              "      <td>1995</td>\n",
              "      <td>4</td>\n",
              "      <td>6</td>\n",
              "      <td>6396</td>\n",
              "      <td>3</td>\n",
              "      <td>Dishwasher, Garbage Disposal, Refrigerator, Mi...</td>\n",
              "      <td>5.0</td>\n",
              "      <td>Carpet, Concrete</td>\n",
              "      <td>55</td>\n",
              "    </tr>\n",
              "  </tbody>\n",
              "</table>\n",
              "</div>\n",
              "      <button class=\"colab-df-convert\" onclick=\"convertToInteractive('df-59a07b8b-4aa4-4cc1-93af-8afb3b51d0e1')\"\n",
              "              title=\"Convert this dataframe to an interactive table.\"\n",
              "              style=\"display:none;\">\n",
              "        \n",
              "  <svg xmlns=\"http://www.w3.org/2000/svg\" height=\"24px\"viewBox=\"0 0 24 24\"\n",
              "       width=\"24px\">\n",
              "    <path d=\"M0 0h24v24H0V0z\" fill=\"none\"/>\n",
              "    <path d=\"M18.56 5.44l.94 2.06.94-2.06 2.06-.94-2.06-.94-.94-2.06-.94 2.06-2.06.94zm-11 1L8.5 8.5l.94-2.06 2.06-.94-2.06-.94L8.5 2.5l-.94 2.06-2.06.94zm10 10l.94 2.06.94-2.06 2.06-.94-2.06-.94-.94-2.06-.94 2.06-2.06.94z\"/><path d=\"M17.41 7.96l-1.37-1.37c-.4-.4-.92-.59-1.43-.59-.52 0-1.04.2-1.43.59L10.3 9.45l-7.72 7.72c-.78.78-.78 2.05 0 2.83L4 21.41c.39.39.9.59 1.41.59.51 0 1.02-.2 1.41-.59l7.78-7.78 2.81-2.81c.8-.78.8-2.07 0-2.86zM5.41 20L4 18.59l7.72-7.72 1.47 1.35L5.41 20z\"/>\n",
              "  </svg>\n",
              "      </button>\n",
              "      \n",
              "  <style>\n",
              "    .colab-df-container {\n",
              "      display:flex;\n",
              "      flex-wrap:wrap;\n",
              "      gap: 12px;\n",
              "    }\n",
              "\n",
              "    .colab-df-convert {\n",
              "      background-color: #E8F0FE;\n",
              "      border: none;\n",
              "      border-radius: 50%;\n",
              "      cursor: pointer;\n",
              "      display: none;\n",
              "      fill: #1967D2;\n",
              "      height: 32px;\n",
              "      padding: 0 0 0 0;\n",
              "      width: 32px;\n",
              "    }\n",
              "\n",
              "    .colab-df-convert:hover {\n",
              "      background-color: #E2EBFA;\n",
              "      box-shadow: 0px 1px 2px rgba(60, 64, 67, 0.3), 0px 1px 3px 1px rgba(60, 64, 67, 0.15);\n",
              "      fill: #174EA6;\n",
              "    }\n",
              "\n",
              "    [theme=dark] .colab-df-convert {\n",
              "      background-color: #3B4455;\n",
              "      fill: #D2E3FC;\n",
              "    }\n",
              "\n",
              "    [theme=dark] .colab-df-convert:hover {\n",
              "      background-color: #434B5C;\n",
              "      box-shadow: 0px 1px 3px 1px rgba(0, 0, 0, 0.15);\n",
              "      filter: drop-shadow(0px 1px 2px rgba(0, 0, 0, 0.3));\n",
              "      fill: #FFFFFF;\n",
              "    }\n",
              "  </style>\n",
              "\n",
              "      <script>\n",
              "        const buttonEl =\n",
              "          document.querySelector('#df-59a07b8b-4aa4-4cc1-93af-8afb3b51d0e1 button.colab-df-convert');\n",
              "        buttonEl.style.display =\n",
              "          google.colab.kernel.accessAllowed ? 'block' : 'none';\n",
              "\n",
              "        async function convertToInteractive(key) {\n",
              "          const element = document.querySelector('#df-59a07b8b-4aa4-4cc1-93af-8afb3b51d0e1');\n",
              "          const dataTable =\n",
              "            await google.colab.kernel.invokeFunction('convertToInteractive',\n",
              "                                                     [key], {});\n",
              "          if (!dataTable) return;\n",
              "\n",
              "          const docLinkHtml = 'Like what you see? Visit the ' +\n",
              "            '<a target=\"_blank\" href=https://colab.research.google.com/notebooks/data_table.ipynb>data table notebook</a>'\n",
              "            + ' to learn more about interactive tables.';\n",
              "          element.innerHTML = '';\n",
              "          dataTable['output_type'] = 'display_data';\n",
              "          await google.colab.output.renderOutput(dataTable, element);\n",
              "          const docLink = document.createElement('div');\n",
              "          docLink.innerHTML = docLinkHtml;\n",
              "          element.appendChild(docLink);\n",
              "        }\n",
              "      </script>\n",
              "    </div>\n",
              "  </div>\n",
              "  "
            ]
          },
          "metadata": {},
          "execution_count": 28
        }
      ]
    },
    {
      "cell_type": "code",
      "source": [
        "##Identifying data types\n",
        "house_df.dtypes"
      ],
      "metadata": {
        "colab": {
          "base_uri": "https://localhost:8080/",
          "height": 0
        },
        "id": "GXWoZmwJzDsv",
        "outputId": "acd5f394-440a-4e6d-8011-7c6750fdab32"
      },
      "execution_count": 29,
      "outputs": [
        {
          "output_type": "execute_result",
          "data": {
            "text/plain": [
              "MLS                   int64\n",
              "sold_price          float64\n",
              "zipcode               int64\n",
              "longitude            object\n",
              "latitude             object\n",
              "lot_acres           float64\n",
              "taxes               float64\n",
              "year_built            int64\n",
              "bedrooms              int64\n",
              "bathrooms            object\n",
              "sqrt_ft              object\n",
              "garage               object\n",
              "kitchen_features     object\n",
              "fireplaces          float64\n",
              "floor_covering       object\n",
              "HOA                  object\n",
              "dtype: object"
            ]
          },
          "metadata": {},
          "execution_count": 29
        }
      ]
    },
    {
      "cell_type": "code",
      "source": [
        ""
      ],
      "metadata": {
        "id": "maAXES1LT92h"
      },
      "execution_count": 4,
      "outputs": []
    },
    {
      "cell_type": "markdown",
      "source": [
        "# Locating None values"
      ],
      "metadata": {
        "id": "8JIfKJJsT7Pr"
      }
    },
    {
      "cell_type": "code",
      "source": [
        "##We get a list of every column\n",
        "columns=house_df.columns.values.tolist()\n",
        "#Separate beteween cathegorical and numerical columns\n",
        "numerical=[]\n",
        "cathegorical=[]\n",
        "\n",
        "for i in columns:\n",
        "  if(house_df[i].dtype!=\"O\"):\n",
        "    numerical.append(i)\n",
        "  else:\n",
        "    cathegorical.append(i)"
      ],
      "metadata": {
        "id": "EAkr8904T4WI"
      },
      "execution_count": 30,
      "outputs": []
    },
    {
      "cell_type": "code",
      "source": [
        " for j in cathegorical:\n",
        "   if(j!='longitude' and j!='latitude'):\n",
        "    print(j+':')\n",
        "    print( house_df[j].value_counts()[\"None\"])\n",
        "##Getting the number of None values in each categorical column"
      ],
      "metadata": {
        "colab": {
          "base_uri": "https://localhost:8080/",
          "height": 0
        },
        "id": "qPiL58xFYz81",
        "outputId": "e11424ff-0e2a-4a54-b30b-db0c0ade8c7f"
      },
      "execution_count": 31,
      "outputs": [
        {
          "output_type": "stream",
          "name": "stdout",
          "text": [
            "bathrooms:\n",
            "6\n",
            "sqrt_ft:\n",
            "56\n",
            "garage:\n",
            "7\n",
            "kitchen_features:\n",
            "33\n",
            "floor_covering:\n",
            "1\n",
            "HOA:\n",
            "562\n"
          ]
        }
      ]
    },
    {
      "cell_type": "markdown",
      "source": [
        "# Correct object numerical values"
      ],
      "metadata": {
        "id": "iV3-YLAUboA2"
      }
    },
    {
      "cell_type": "code",
      "source": [
        "##In this case we have garage, bathrooms, HOA and sqrt_ft as object type variables when they are actually numbers.\n",
        "#First, let's change the None values by zeros and transform the whoe columns into numbers\n",
        "n=len(house_df['bathrooms'])\n",
        "##Making a loop that makes all the work\n",
        "#For batrooms we have\n",
        "for i in range(n):\n",
        "  if(house_df['bathrooms'][i]=='None'):\n",
        "    house_df['bathrooms'][i]=0.0\n",
        "house_df['bathrooms']=house_df['bathrooms'].astype(float)\n",
        "\n",
        "#Sqrt_ft\n",
        "for i in range(n):\n",
        "  if(house_df['sqrt_ft'][i]=='None'):\n",
        "    house_df['sqrt_ft'][i]=0.0\n",
        "house_df['sqrt_ft']=house_df['sqrt_ft'].astype(float)\n",
        "\n",
        "#Garage\n",
        "for i in range(n):\n",
        "  if(house_df['garage'][i]=='None'):\n",
        "    house_df['garage'][i]=0\n",
        "house_df['garage']=house_df['garage'].astype(float)\n",
        "\n",
        "house_df['garage']=house_df['garage'].astype(int)\n",
        "\n",
        "#HOA\n",
        "for i in range(n):\n",
        "  if(house_df['HOA'][i]=='None'):\n",
        "    house_df['HOA'][i]=0\n",
        "    #print(i)\n",
        "  else:\n",
        "   # print(i)\n",
        "    vv=house_df['HOA'][i].split(',')\n",
        "    house_df['HOA'][i]=house_df['HOA'][i][0]\n",
        "house_df['HOA']=house_df['HOA'].astype(int)\n"
      ],
      "metadata": {
        "colab": {
          "base_uri": "https://localhost:8080/",
          "height": 0
        },
        "id": "C93nqlCKb2qg",
        "outputId": "f18130ac-016f-4210-86b6-88f9ee469c62"
      },
      "execution_count": 32,
      "outputs": [
        {
          "output_type": "stream",
          "name": "stderr",
          "text": [
            "/usr/local/lib/python3.7/dist-packages/ipykernel_launcher.py:8: SettingWithCopyWarning: \n",
            "A value is trying to be set on a copy of a slice from a DataFrame\n",
            "\n",
            "See the caveats in the documentation: https://pandas.pydata.org/pandas-docs/stable/user_guide/indexing.html#returning-a-view-versus-a-copy\n",
            "  \n",
            "/usr/local/lib/python3.7/dist-packages/ipykernel_launcher.py:14: SettingWithCopyWarning: \n",
            "A value is trying to be set on a copy of a slice from a DataFrame\n",
            "\n",
            "See the caveats in the documentation: https://pandas.pydata.org/pandas-docs/stable/user_guide/indexing.html#returning-a-view-versus-a-copy\n",
            "  \n",
            "/usr/local/lib/python3.7/dist-packages/ipykernel_launcher.py:20: SettingWithCopyWarning: \n",
            "A value is trying to be set on a copy of a slice from a DataFrame\n",
            "\n",
            "See the caveats in the documentation: https://pandas.pydata.org/pandas-docs/stable/user_guide/indexing.html#returning-a-view-versus-a-copy\n",
            "/usr/local/lib/python3.7/dist-packages/ipykernel_launcher.py:33: SettingWithCopyWarning: \n",
            "A value is trying to be set on a copy of a slice from a DataFrame\n",
            "\n",
            "See the caveats in the documentation: https://pandas.pydata.org/pandas-docs/stable/user_guide/indexing.html#returning-a-view-versus-a-copy\n",
            "/usr/local/lib/python3.7/dist-packages/ipykernel_launcher.py:28: SettingWithCopyWarning: \n",
            "A value is trying to be set on a copy of a slice from a DataFrame\n",
            "\n",
            "See the caveats in the documentation: https://pandas.pydata.org/pandas-docs/stable/user_guide/indexing.html#returning-a-view-versus-a-copy\n"
          ]
        }
      ]
    },
    {
      "cell_type": "code",
      "source": [
        "#Also let's note that we have zero values data that most likely should not be zero.\n",
        "r=0\n",
        "n=len(house_df['year_built'])\n",
        "for i in range(n):\n",
        "   if(house_df['year_built'][i]==0.0):\n",
        "     r=r+1\n",
        "print(r)\n",
        "k=0\n",
        "for i in range(n):\n",
        "   if(house_df['sold_price'][i]==0.0):\n",
        "     k=k+1\n",
        "print(k)\n",
        "m=0\n",
        "for i in range(n):\n",
        "   if(house_df['HOA'][i]==0.0):\n",
        "     k=k+1\n",
        "print(k)\n",
        "\n",
        "r=0\n",
        "for i in range(n):\n",
        "   if(house_df['sqrt_ft'][i]==0.0):\n",
        "     r=r+1\n",
        "print(r)\n",
        "b=0\n",
        "for i in range(n):\n",
        "   if(house_df['bedrooms'][i]==0.0):\n",
        "     b=b+1\n",
        "print(b)\n",
        "\n",
        "t=0\n",
        "for i in range(n):\n",
        "   if(house_df['taxes'][i]==0.0):\n",
        "     t=t+1\n",
        "print(t)\n",
        "a=0\n",
        "for i in range(n):\n",
        "   if(house_df['lot_acres'][i]==0.0):\n",
        "     a=a+1\n",
        "print(a)"
      ],
      "metadata": {
        "colab": {
          "base_uri": "https://localhost:8080/",
          "height": 0
        },
        "id": "G_6YacTZbBeP",
        "outputId": "2b1316c8-8bf1-4520-ef4d-51ceea5a643f"
      },
      "execution_count": 33,
      "outputs": [
        {
          "output_type": "stream",
          "name": "stdout",
          "text": [
            "5\n",
            "0\n",
            "1388\n",
            "56\n",
            "0\n",
            "22\n",
            "35\n"
          ]
        }
      ]
    },
    {
      "cell_type": "code",
      "source": [
        "##We opbserve that we don't have None or zero values in the bedrooms columns, so, it is not possible not having zero values for sqrt_ft\n",
        "#To solve this, let's strack some statisitics\n",
        "#For the HOA variable is clear that the mode is zero. We compute it anyway\n",
        "mode=house_df['year_built'].mode()[0]\n",
        "for i in range(n):\n",
        "   if(house_df['year_built'][i]==0.0):\n",
        "     house_df['year_built'][i]=mode\n",
        "#For HOA\n",
        "modeHOA=house_df['HOA'].mode()[0]\n",
        "for i in range(n):\n",
        "   if(house_df['HOA'][i]==0.0):\n",
        "     house_df['HOA'][i]=mode\n"
      ],
      "metadata": {
        "colab": {
          "base_uri": "https://localhost:8080/",
          "height": 0
        },
        "id": "s8fIp7v7cYQa",
        "outputId": "2d5230b6-6d2a-41af-a7b9-383d3524dc1c"
      },
      "execution_count": 34,
      "outputs": [
        {
          "output_type": "stream",
          "name": "stderr",
          "text": [
            "/usr/local/lib/python3.7/dist-packages/ipykernel_launcher.py:6: SettingWithCopyWarning: \n",
            "A value is trying to be set on a copy of a slice from a DataFrame\n",
            "\n",
            "See the caveats in the documentation: https://pandas.pydata.org/pandas-docs/stable/user_guide/indexing.html#returning-a-view-versus-a-copy\n",
            "  \n",
            "/usr/local/lib/python3.7/dist-packages/ipykernel_launcher.py:11: SettingWithCopyWarning: \n",
            "A value is trying to be set on a copy of a slice from a DataFrame\n",
            "\n",
            "See the caveats in the documentation: https://pandas.pydata.org/pandas-docs/stable/user_guide/indexing.html#returning-a-view-versus-a-copy\n",
            "  # This is added back by InteractiveShellApp.init_path()\n"
          ]
        }
      ]
    },
    {
      "cell_type": "code",
      "source": [
        "#We analizy some information on the sqrt_ft column to see if we can be able of choosing a value for the sqrt_ft different of zero\n",
        "mean=house_df['sqrt_ft'].mean()\n",
        "median=house_df['sqrt_ft'].median()\n",
        "mode2=house_df['sqrt_ft'].mode()\n",
        "print(mean)\n",
        "print(median)\n",
        "print(mode2)\n",
        "#We observe how different is the media with the madianit seems they behave as a normal distribution"
      ],
      "metadata": {
        "colab": {
          "base_uri": "https://localhost:8080/",
          "height": 0
        },
        "id": "xGirXqQ6wt3e",
        "outputId": "4a5298cc-2747-4fb0-d831-8d4f9aaae8e7"
      },
      "execution_count": 37,
      "outputs": [
        {
          "output_type": "stream",
          "name": "stdout",
          "text": [
            "3715.9006474239914\n",
            "3524.0\n",
            "0    3674.74352\n",
            "dtype: float64\n"
          ]
        }
      ]
    },
    {
      "cell_type": "code",
      "source": [
        "#We use the mean to fill all the zero values for sqrt_ft\n",
        "for i in range(n):\n",
        "   if(house_df['sqrt_ft'][i]==0.0):\n",
        "     house_df['sqrt_ft'][i]=mean"
      ],
      "metadata": {
        "colab": {
          "base_uri": "https://localhost:8080/",
          "height": 0
        },
        "id": "KdPgLfH8yE0k",
        "outputId": "4d5e7c3b-9953-4a86-d61f-5f251fe221d0"
      },
      "execution_count": 36,
      "outputs": [
        {
          "output_type": "stream",
          "name": "stderr",
          "text": [
            "/usr/local/lib/python3.7/dist-packages/ipykernel_launcher.py:3: SettingWithCopyWarning: \n",
            "A value is trying to be set on a copy of a slice from a DataFrame\n",
            "\n",
            "See the caveats in the documentation: https://pandas.pydata.org/pandas-docs/stable/user_guide/indexing.html#returning-a-view-versus-a-copy\n",
            "  This is separate from the ipykernel package so we can avoid doing imports until\n"
          ]
        }
      ]
    },
    {
      "cell_type": "markdown",
      "source": [
        "# Searching for Null/NaN values\n"
      ],
      "metadata": {
        "id": "oVCmQGhFefoj"
      }
    },
    {
      "cell_type": "code",
      "source": [
        "#Searching for the total amount of NaN or Null values\n",
        "house_df.isnull().sum()"
      ],
      "metadata": {
        "colab": {
          "base_uri": "https://localhost:8080/",
          "height": 0
        },
        "id": "JagAJJi-eahQ",
        "outputId": "9664e023-1805-48d7-cbb8-dd75b9cd2dc6"
      },
      "execution_count": 11,
      "outputs": [
        {
          "output_type": "execute_result",
          "data": {
            "text/plain": [
              "MLS                  0\n",
              "sold_price           0\n",
              "zipcode              0\n",
              "longitude            0\n",
              "latitude             0\n",
              "lot_acres           10\n",
              "taxes                0\n",
              "year_built           0\n",
              "bedrooms             0\n",
              "bathrooms            0\n",
              "sqrt_ft              0\n",
              "garage               0\n",
              "kitchen_features     0\n",
              "fireplaces          25\n",
              "floor_covering       0\n",
              "HOA                  0\n",
              "dtype: int64"
            ]
          },
          "metadata": {},
          "execution_count": 11
        }
      ]
    },
    {
      "cell_type": "code",
      "source": [
        "##We opbserve that we don't have Null or NaN values in the bedrooms columns, so, it is not possible not having zero values for sqrt_ft\n"
      ],
      "metadata": {
        "id": "Rp2lfgOg0p3X"
      },
      "execution_count": null,
      "outputs": []
    },
    {
      "cell_type": "code",
      "source": [
        "#We eliminate all nun rows considerig they are less than 5% of the data\n",
        "df_drop=house_df.dropna(axis=0)\n",
        "df_drop.shape"
      ],
      "metadata": {
        "colab": {
          "base_uri": "https://localhost:8080/",
          "height": 0
        },
        "outputId": "a0244277-d95b-4979-d664-523e18a24c4b",
        "id": "swvtSDvp-mQt"
      },
      "execution_count": 12,
      "outputs": [
        {
          "output_type": "execute_result",
          "data": {
            "text/plain": [
              "(4973, 16)"
            ]
          },
          "metadata": {},
          "execution_count": 12
        }
      ]
    },
    {
      "cell_type": "markdown",
      "source": [
        "# Dropping unnecesary values"
      ],
      "metadata": {
        "id": "9gayQzL2AfLT"
      }
    },
    {
      "cell_type": "code",
      "source": [
        "#Let's analyse the MLS column\n",
        "MLS_data=df_drop[\"MLS\"]\n",
        "vecMLS=np.unique(MLS_data)\n",
        "print(len(vecMLS))\n",
        "print(df_drop.shape)\n",
        "#We see that both of them have the same length, so the variable MLS is unnecesary for the data analysis. We just dropp it\n",
        "df_drop=df_drop.drop(['MLS'],axis=1)"
      ],
      "metadata": {
        "colab": {
          "base_uri": "https://localhost:8080/",
          "height": 0
        },
        "id": "bUeGvJK0AnSx",
        "outputId": "77fb3103-7651-444e-e847-2d7b65121341"
      },
      "execution_count": 13,
      "outputs": [
        {
          "output_type": "stream",
          "name": "stdout",
          "text": [
            "4973\n",
            "(4973, 16)\n"
          ]
        }
      ]
    },
    {
      "cell_type": "code",
      "source": [
        "df_drop.head(5)"
      ],
      "metadata": {
        "colab": {
          "base_uri": "https://localhost:8080/",
          "height": 444
        },
        "id": "UFb_Fln2B6EE",
        "outputId": "7010c26e-677a-4151-a344-a1dff492c21e"
      },
      "execution_count": 14,
      "outputs": [
        {
          "output_type": "execute_result",
          "data": {
            "text/plain": [
              "   sold_price  zipcode     longitude    latitude  lot_acres     taxes  \\\n",
              "0   5300000.0    85637    -1.103.782  31.356.362    2154.00   5272.00   \n",
              "1   4200000.0    85646  -111.045.371  31.594.213    1707.00  10422.36   \n",
              "2   4200000.0    85646  -111.040.707  31.594.844    1707.00  10482.00   \n",
              "3   4500000.0    85646  -111.035.925  31.645.878     636.67   8418.58   \n",
              "4   3411450.0    85750  -110.813.768  32.285.162       3.21  15393.00   \n",
              "\n",
              "   year_built  bedrooms  bathrooms  sqrt_ft  garage  \\\n",
              "0        1941        13       10.0  10500.0       0   \n",
              "1        1997         2        2.0   7300.0       0   \n",
              "2        1997         2        3.0      0.0       0   \n",
              "3        1930         7        5.0   9019.0       4   \n",
              "4        1995         4        6.0   6396.0       3   \n",
              "\n",
              "                                    kitchen_features  fireplaces  \\\n",
              "0            Dishwasher, Freezer, Refrigerator, Oven         6.0   \n",
              "1                       Dishwasher, Garbage Disposal         5.0   \n",
              "2         Dishwasher, Garbage Disposal, Refrigerator         5.0   \n",
              "3  Dishwasher, Double Sink, Pantry: Butler, Refri...         4.0   \n",
              "4  Dishwasher, Garbage Disposal, Refrigerator, Mi...         5.0   \n",
              "\n",
              "                 floor_covering   HOA  \n",
              "0            Mexican Tile, Wood  2006  \n",
              "1          Natural Stone, Other  2006  \n",
              "2    Natural Stone, Other: Rock  2006  \n",
              "3  Ceramic Tile, Laminate, Wood  2006  \n",
              "4              Carpet, Concrete     5  "
            ],
            "text/html": [
              "\n",
              "  <div id=\"df-a0226b8f-bde6-4745-9dad-b27fcfc05371\">\n",
              "    <div class=\"colab-df-container\">\n",
              "      <div>\n",
              "<style scoped>\n",
              "    .dataframe tbody tr th:only-of-type {\n",
              "        vertical-align: middle;\n",
              "    }\n",
              "\n",
              "    .dataframe tbody tr th {\n",
              "        vertical-align: top;\n",
              "    }\n",
              "\n",
              "    .dataframe thead th {\n",
              "        text-align: right;\n",
              "    }\n",
              "</style>\n",
              "<table border=\"1\" class=\"dataframe\">\n",
              "  <thead>\n",
              "    <tr style=\"text-align: right;\">\n",
              "      <th></th>\n",
              "      <th>sold_price</th>\n",
              "      <th>zipcode</th>\n",
              "      <th>longitude</th>\n",
              "      <th>latitude</th>\n",
              "      <th>lot_acres</th>\n",
              "      <th>taxes</th>\n",
              "      <th>year_built</th>\n",
              "      <th>bedrooms</th>\n",
              "      <th>bathrooms</th>\n",
              "      <th>sqrt_ft</th>\n",
              "      <th>garage</th>\n",
              "      <th>kitchen_features</th>\n",
              "      <th>fireplaces</th>\n",
              "      <th>floor_covering</th>\n",
              "      <th>HOA</th>\n",
              "    </tr>\n",
              "  </thead>\n",
              "  <tbody>\n",
              "    <tr>\n",
              "      <th>0</th>\n",
              "      <td>5300000.0</td>\n",
              "      <td>85637</td>\n",
              "      <td>-1.103.782</td>\n",
              "      <td>31.356.362</td>\n",
              "      <td>2154.00</td>\n",
              "      <td>5272.00</td>\n",
              "      <td>1941</td>\n",
              "      <td>13</td>\n",
              "      <td>10.0</td>\n",
              "      <td>10500.0</td>\n",
              "      <td>0</td>\n",
              "      <td>Dishwasher, Freezer, Refrigerator, Oven</td>\n",
              "      <td>6.0</td>\n",
              "      <td>Mexican Tile, Wood</td>\n",
              "      <td>2006</td>\n",
              "    </tr>\n",
              "    <tr>\n",
              "      <th>1</th>\n",
              "      <td>4200000.0</td>\n",
              "      <td>85646</td>\n",
              "      <td>-111.045.371</td>\n",
              "      <td>31.594.213</td>\n",
              "      <td>1707.00</td>\n",
              "      <td>10422.36</td>\n",
              "      <td>1997</td>\n",
              "      <td>2</td>\n",
              "      <td>2.0</td>\n",
              "      <td>7300.0</td>\n",
              "      <td>0</td>\n",
              "      <td>Dishwasher, Garbage Disposal</td>\n",
              "      <td>5.0</td>\n",
              "      <td>Natural Stone, Other</td>\n",
              "      <td>2006</td>\n",
              "    </tr>\n",
              "    <tr>\n",
              "      <th>2</th>\n",
              "      <td>4200000.0</td>\n",
              "      <td>85646</td>\n",
              "      <td>-111.040.707</td>\n",
              "      <td>31.594.844</td>\n",
              "      <td>1707.00</td>\n",
              "      <td>10482.00</td>\n",
              "      <td>1997</td>\n",
              "      <td>2</td>\n",
              "      <td>3.0</td>\n",
              "      <td>0.0</td>\n",
              "      <td>0</td>\n",
              "      <td>Dishwasher, Garbage Disposal, Refrigerator</td>\n",
              "      <td>5.0</td>\n",
              "      <td>Natural Stone, Other: Rock</td>\n",
              "      <td>2006</td>\n",
              "    </tr>\n",
              "    <tr>\n",
              "      <th>3</th>\n",
              "      <td>4500000.0</td>\n",
              "      <td>85646</td>\n",
              "      <td>-111.035.925</td>\n",
              "      <td>31.645.878</td>\n",
              "      <td>636.67</td>\n",
              "      <td>8418.58</td>\n",
              "      <td>1930</td>\n",
              "      <td>7</td>\n",
              "      <td>5.0</td>\n",
              "      <td>9019.0</td>\n",
              "      <td>4</td>\n",
              "      <td>Dishwasher, Double Sink, Pantry: Butler, Refri...</td>\n",
              "      <td>4.0</td>\n",
              "      <td>Ceramic Tile, Laminate, Wood</td>\n",
              "      <td>2006</td>\n",
              "    </tr>\n",
              "    <tr>\n",
              "      <th>4</th>\n",
              "      <td>3411450.0</td>\n",
              "      <td>85750</td>\n",
              "      <td>-110.813.768</td>\n",
              "      <td>32.285.162</td>\n",
              "      <td>3.21</td>\n",
              "      <td>15393.00</td>\n",
              "      <td>1995</td>\n",
              "      <td>4</td>\n",
              "      <td>6.0</td>\n",
              "      <td>6396.0</td>\n",
              "      <td>3</td>\n",
              "      <td>Dishwasher, Garbage Disposal, Refrigerator, Mi...</td>\n",
              "      <td>5.0</td>\n",
              "      <td>Carpet, Concrete</td>\n",
              "      <td>5</td>\n",
              "    </tr>\n",
              "  </tbody>\n",
              "</table>\n",
              "</div>\n",
              "      <button class=\"colab-df-convert\" onclick=\"convertToInteractive('df-a0226b8f-bde6-4745-9dad-b27fcfc05371')\"\n",
              "              title=\"Convert this dataframe to an interactive table.\"\n",
              "              style=\"display:none;\">\n",
              "        \n",
              "  <svg xmlns=\"http://www.w3.org/2000/svg\" height=\"24px\"viewBox=\"0 0 24 24\"\n",
              "       width=\"24px\">\n",
              "    <path d=\"M0 0h24v24H0V0z\" fill=\"none\"/>\n",
              "    <path d=\"M18.56 5.44l.94 2.06.94-2.06 2.06-.94-2.06-.94-.94-2.06-.94 2.06-2.06.94zm-11 1L8.5 8.5l.94-2.06 2.06-.94-2.06-.94L8.5 2.5l-.94 2.06-2.06.94zm10 10l.94 2.06.94-2.06 2.06-.94-2.06-.94-.94-2.06-.94 2.06-2.06.94z\"/><path d=\"M17.41 7.96l-1.37-1.37c-.4-.4-.92-.59-1.43-.59-.52 0-1.04.2-1.43.59L10.3 9.45l-7.72 7.72c-.78.78-.78 2.05 0 2.83L4 21.41c.39.39.9.59 1.41.59.51 0 1.02-.2 1.41-.59l7.78-7.78 2.81-2.81c.8-.78.8-2.07 0-2.86zM5.41 20L4 18.59l7.72-7.72 1.47 1.35L5.41 20z\"/>\n",
              "  </svg>\n",
              "      </button>\n",
              "      \n",
              "  <style>\n",
              "    .colab-df-container {\n",
              "      display:flex;\n",
              "      flex-wrap:wrap;\n",
              "      gap: 12px;\n",
              "    }\n",
              "\n",
              "    .colab-df-convert {\n",
              "      background-color: #E8F0FE;\n",
              "      border: none;\n",
              "      border-radius: 50%;\n",
              "      cursor: pointer;\n",
              "      display: none;\n",
              "      fill: #1967D2;\n",
              "      height: 32px;\n",
              "      padding: 0 0 0 0;\n",
              "      width: 32px;\n",
              "    }\n",
              "\n",
              "    .colab-df-convert:hover {\n",
              "      background-color: #E2EBFA;\n",
              "      box-shadow: 0px 1px 2px rgba(60, 64, 67, 0.3), 0px 1px 3px 1px rgba(60, 64, 67, 0.15);\n",
              "      fill: #174EA6;\n",
              "    }\n",
              "\n",
              "    [theme=dark] .colab-df-convert {\n",
              "      background-color: #3B4455;\n",
              "      fill: #D2E3FC;\n",
              "    }\n",
              "\n",
              "    [theme=dark] .colab-df-convert:hover {\n",
              "      background-color: #434B5C;\n",
              "      box-shadow: 0px 1px 3px 1px rgba(0, 0, 0, 0.15);\n",
              "      filter: drop-shadow(0px 1px 2px rgba(0, 0, 0, 0.3));\n",
              "      fill: #FFFFFF;\n",
              "    }\n",
              "  </style>\n",
              "\n",
              "      <script>\n",
              "        const buttonEl =\n",
              "          document.querySelector('#df-a0226b8f-bde6-4745-9dad-b27fcfc05371 button.colab-df-convert');\n",
              "        buttonEl.style.display =\n",
              "          google.colab.kernel.accessAllowed ? 'block' : 'none';\n",
              "\n",
              "        async function convertToInteractive(key) {\n",
              "          const element = document.querySelector('#df-a0226b8f-bde6-4745-9dad-b27fcfc05371');\n",
              "          const dataTable =\n",
              "            await google.colab.kernel.invokeFunction('convertToInteractive',\n",
              "                                                     [key], {});\n",
              "          if (!dataTable) return;\n",
              "\n",
              "          const docLinkHtml = 'Like what you see? Visit the ' +\n",
              "            '<a target=\"_blank\" href=https://colab.research.google.com/notebooks/data_table.ipynb>data table notebook</a>'\n",
              "            + ' to learn more about interactive tables.';\n",
              "          element.innerHTML = '';\n",
              "          dataTable['output_type'] = 'display_data';\n",
              "          await google.colab.output.renderOutput(dataTable, element);\n",
              "          const docLink = document.createElement('div');\n",
              "          docLink.innerHTML = docLinkHtml;\n",
              "          element.appendChild(docLink);\n",
              "        }\n",
              "      </script>\n",
              "    </div>\n",
              "  </div>\n",
              "  "
            ]
          },
          "metadata": {},
          "execution_count": 14
        }
      ]
    },
    {
      "cell_type": "markdown",
      "source": [
        ""
      ],
      "metadata": {
        "id": "3OYnywxLgb9B"
      }
    },
    {
      "cell_type": "markdown",
      "source": [
        "# Correlated variables"
      ],
      "metadata": {
        "id": "P7x4_R9ygf14"
      }
    },
    {
      "cell_type": "code",
      "source": [
        "#Getting the correlation matrix of the data frame\n",
        "plt.figure(figsize=(10,5))\n",
        "c= df_drop.corr()\n",
        "sns.heatmap(c,cmap=\"BrBG\",annot=True)\n",
        "c"
      ],
      "metadata": {
        "colab": {
          "base_uri": "https://localhost:8080/",
          "height": 808
        },
        "id": "ycgjd4uEg2uI",
        "outputId": "7ec6a3d2-72fa-4047-b424-64b1c46966ac"
      },
      "execution_count": null,
      "outputs": [
        {
          "output_type": "execute_result",
          "data": {
            "text/plain": [
              "            sold_price   zipcode  lot_acres     taxes  year_built  bedrooms  \\\n",
              "sold_price    1.000000 -0.047941   0.332954  0.023265   -0.013650  0.114050   \n",
              "zipcode      -0.047941  1.000000  -0.128443 -0.001697    0.040368  0.040643   \n",
              "lot_acres     0.332954 -0.128443   1.000000 -0.000569   -0.039643  0.069806   \n",
              "taxes         0.023265 -0.001697  -0.000569  1.000000    0.000039  0.005146   \n",
              "year_built   -0.013650  0.040368  -0.039643  0.000039    1.000000 -0.085681   \n",
              "bedrooms      0.114050  0.040643   0.069806  0.005146   -0.085681  1.000000   \n",
              "bathrooms     0.326405 -0.056332   0.055510  0.008946   -0.066275  0.687501   \n",
              "sqrt_ft       0.510705  0.041285   0.081832  0.036760   -0.046220  0.523298   \n",
              "garage        0.095537  0.092184  -0.070652  0.005666    0.107829  0.038145   \n",
              "fireplaces    0.384310 -0.018166   0.086382  0.022548   -0.032132  0.145279   \n",
              "HOA          -0.080293  0.000583  -0.052820 -0.009352    0.034318 -0.053593   \n",
              "\n",
              "            bathrooms   sqrt_ft    garage  fireplaces       HOA  \n",
              "sold_price   0.326405  0.510705  0.095537    0.384310 -0.080293  \n",
              "zipcode     -0.056332  0.041285  0.092184   -0.018166  0.000583  \n",
              "lot_acres    0.055510  0.081832 -0.070652    0.086382 -0.052820  \n",
              "taxes        0.008946  0.036760  0.005666    0.022548 -0.009352  \n",
              "year_built  -0.066275 -0.046220  0.107829   -0.032132  0.034318  \n",
              "bedrooms     0.687501  0.523298  0.038145    0.145279 -0.053593  \n",
              "bathrooms    1.000000  0.628779  0.097742    0.225633 -0.093886  \n",
              "sqrt_ft      0.628779  1.000000  0.177026    0.387765 -0.090518  \n",
              "garage       0.097742  0.177026  1.000000    0.061073  0.009087  \n",
              "fireplaces   0.225633  0.387765  0.061073    1.000000 -0.069239  \n",
              "HOA         -0.093886 -0.090518  0.009087   -0.069239  1.000000  "
            ],
            "text/html": [
              "\n",
              "  <div id=\"df-e008f0cf-bdb4-49ec-b9b5-f6ad8a08dcf2\">\n",
              "    <div class=\"colab-df-container\">\n",
              "      <div>\n",
              "<style scoped>\n",
              "    .dataframe tbody tr th:only-of-type {\n",
              "        vertical-align: middle;\n",
              "    }\n",
              "\n",
              "    .dataframe tbody tr th {\n",
              "        vertical-align: top;\n",
              "    }\n",
              "\n",
              "    .dataframe thead th {\n",
              "        text-align: right;\n",
              "    }\n",
              "</style>\n",
              "<table border=\"1\" class=\"dataframe\">\n",
              "  <thead>\n",
              "    <tr style=\"text-align: right;\">\n",
              "      <th></th>\n",
              "      <th>sold_price</th>\n",
              "      <th>zipcode</th>\n",
              "      <th>lot_acres</th>\n",
              "      <th>taxes</th>\n",
              "      <th>year_built</th>\n",
              "      <th>bedrooms</th>\n",
              "      <th>bathrooms</th>\n",
              "      <th>sqrt_ft</th>\n",
              "      <th>garage</th>\n",
              "      <th>fireplaces</th>\n",
              "      <th>HOA</th>\n",
              "    </tr>\n",
              "  </thead>\n",
              "  <tbody>\n",
              "    <tr>\n",
              "      <th>sold_price</th>\n",
              "      <td>1.000000</td>\n",
              "      <td>-0.047941</td>\n",
              "      <td>0.332954</td>\n",
              "      <td>0.023265</td>\n",
              "      <td>-0.013650</td>\n",
              "      <td>0.114050</td>\n",
              "      <td>0.326405</td>\n",
              "      <td>0.510705</td>\n",
              "      <td>0.095537</td>\n",
              "      <td>0.384310</td>\n",
              "      <td>-0.080293</td>\n",
              "    </tr>\n",
              "    <tr>\n",
              "      <th>zipcode</th>\n",
              "      <td>-0.047941</td>\n",
              "      <td>1.000000</td>\n",
              "      <td>-0.128443</td>\n",
              "      <td>-0.001697</td>\n",
              "      <td>0.040368</td>\n",
              "      <td>0.040643</td>\n",
              "      <td>-0.056332</td>\n",
              "      <td>0.041285</td>\n",
              "      <td>0.092184</td>\n",
              "      <td>-0.018166</td>\n",
              "      <td>0.000583</td>\n",
              "    </tr>\n",
              "    <tr>\n",
              "      <th>lot_acres</th>\n",
              "      <td>0.332954</td>\n",
              "      <td>-0.128443</td>\n",
              "      <td>1.000000</td>\n",
              "      <td>-0.000569</td>\n",
              "      <td>-0.039643</td>\n",
              "      <td>0.069806</td>\n",
              "      <td>0.055510</td>\n",
              "      <td>0.081832</td>\n",
              "      <td>-0.070652</td>\n",
              "      <td>0.086382</td>\n",
              "      <td>-0.052820</td>\n",
              "    </tr>\n",
              "    <tr>\n",
              "      <th>taxes</th>\n",
              "      <td>0.023265</td>\n",
              "      <td>-0.001697</td>\n",
              "      <td>-0.000569</td>\n",
              "      <td>1.000000</td>\n",
              "      <td>0.000039</td>\n",
              "      <td>0.005146</td>\n",
              "      <td>0.008946</td>\n",
              "      <td>0.036760</td>\n",
              "      <td>0.005666</td>\n",
              "      <td>0.022548</td>\n",
              "      <td>-0.009352</td>\n",
              "    </tr>\n",
              "    <tr>\n",
              "      <th>year_built</th>\n",
              "      <td>-0.013650</td>\n",
              "      <td>0.040368</td>\n",
              "      <td>-0.039643</td>\n",
              "      <td>0.000039</td>\n",
              "      <td>1.000000</td>\n",
              "      <td>-0.085681</td>\n",
              "      <td>-0.066275</td>\n",
              "      <td>-0.046220</td>\n",
              "      <td>0.107829</td>\n",
              "      <td>-0.032132</td>\n",
              "      <td>0.034318</td>\n",
              "    </tr>\n",
              "    <tr>\n",
              "      <th>bedrooms</th>\n",
              "      <td>0.114050</td>\n",
              "      <td>0.040643</td>\n",
              "      <td>0.069806</td>\n",
              "      <td>0.005146</td>\n",
              "      <td>-0.085681</td>\n",
              "      <td>1.000000</td>\n",
              "      <td>0.687501</td>\n",
              "      <td>0.523298</td>\n",
              "      <td>0.038145</td>\n",
              "      <td>0.145279</td>\n",
              "      <td>-0.053593</td>\n",
              "    </tr>\n",
              "    <tr>\n",
              "      <th>bathrooms</th>\n",
              "      <td>0.326405</td>\n",
              "      <td>-0.056332</td>\n",
              "      <td>0.055510</td>\n",
              "      <td>0.008946</td>\n",
              "      <td>-0.066275</td>\n",
              "      <td>0.687501</td>\n",
              "      <td>1.000000</td>\n",
              "      <td>0.628779</td>\n",
              "      <td>0.097742</td>\n",
              "      <td>0.225633</td>\n",
              "      <td>-0.093886</td>\n",
              "    </tr>\n",
              "    <tr>\n",
              "      <th>sqrt_ft</th>\n",
              "      <td>0.510705</td>\n",
              "      <td>0.041285</td>\n",
              "      <td>0.081832</td>\n",
              "      <td>0.036760</td>\n",
              "      <td>-0.046220</td>\n",
              "      <td>0.523298</td>\n",
              "      <td>0.628779</td>\n",
              "      <td>1.000000</td>\n",
              "      <td>0.177026</td>\n",
              "      <td>0.387765</td>\n",
              "      <td>-0.090518</td>\n",
              "    </tr>\n",
              "    <tr>\n",
              "      <th>garage</th>\n",
              "      <td>0.095537</td>\n",
              "      <td>0.092184</td>\n",
              "      <td>-0.070652</td>\n",
              "      <td>0.005666</td>\n",
              "      <td>0.107829</td>\n",
              "      <td>0.038145</td>\n",
              "      <td>0.097742</td>\n",
              "      <td>0.177026</td>\n",
              "      <td>1.000000</td>\n",
              "      <td>0.061073</td>\n",
              "      <td>0.009087</td>\n",
              "    </tr>\n",
              "    <tr>\n",
              "      <th>fireplaces</th>\n",
              "      <td>0.384310</td>\n",
              "      <td>-0.018166</td>\n",
              "      <td>0.086382</td>\n",
              "      <td>0.022548</td>\n",
              "      <td>-0.032132</td>\n",
              "      <td>0.145279</td>\n",
              "      <td>0.225633</td>\n",
              "      <td>0.387765</td>\n",
              "      <td>0.061073</td>\n",
              "      <td>1.000000</td>\n",
              "      <td>-0.069239</td>\n",
              "    </tr>\n",
              "    <tr>\n",
              "      <th>HOA</th>\n",
              "      <td>-0.080293</td>\n",
              "      <td>0.000583</td>\n",
              "      <td>-0.052820</td>\n",
              "      <td>-0.009352</td>\n",
              "      <td>0.034318</td>\n",
              "      <td>-0.053593</td>\n",
              "      <td>-0.093886</td>\n",
              "      <td>-0.090518</td>\n",
              "      <td>0.009087</td>\n",
              "      <td>-0.069239</td>\n",
              "      <td>1.000000</td>\n",
              "    </tr>\n",
              "  </tbody>\n",
              "</table>\n",
              "</div>\n",
              "      <button class=\"colab-df-convert\" onclick=\"convertToInteractive('df-e008f0cf-bdb4-49ec-b9b5-f6ad8a08dcf2')\"\n",
              "              title=\"Convert this dataframe to an interactive table.\"\n",
              "              style=\"display:none;\">\n",
              "        \n",
              "  <svg xmlns=\"http://www.w3.org/2000/svg\" height=\"24px\"viewBox=\"0 0 24 24\"\n",
              "       width=\"24px\">\n",
              "    <path d=\"M0 0h24v24H0V0z\" fill=\"none\"/>\n",
              "    <path d=\"M18.56 5.44l.94 2.06.94-2.06 2.06-.94-2.06-.94-.94-2.06-.94 2.06-2.06.94zm-11 1L8.5 8.5l.94-2.06 2.06-.94-2.06-.94L8.5 2.5l-.94 2.06-2.06.94zm10 10l.94 2.06.94-2.06 2.06-.94-2.06-.94-.94-2.06-.94 2.06-2.06.94z\"/><path d=\"M17.41 7.96l-1.37-1.37c-.4-.4-.92-.59-1.43-.59-.52 0-1.04.2-1.43.59L10.3 9.45l-7.72 7.72c-.78.78-.78 2.05 0 2.83L4 21.41c.39.39.9.59 1.41.59.51 0 1.02-.2 1.41-.59l7.78-7.78 2.81-2.81c.8-.78.8-2.07 0-2.86zM5.41 20L4 18.59l7.72-7.72 1.47 1.35L5.41 20z\"/>\n",
              "  </svg>\n",
              "      </button>\n",
              "      \n",
              "  <style>\n",
              "    .colab-df-container {\n",
              "      display:flex;\n",
              "      flex-wrap:wrap;\n",
              "      gap: 12px;\n",
              "    }\n",
              "\n",
              "    .colab-df-convert {\n",
              "      background-color: #E8F0FE;\n",
              "      border: none;\n",
              "      border-radius: 50%;\n",
              "      cursor: pointer;\n",
              "      display: none;\n",
              "      fill: #1967D2;\n",
              "      height: 32px;\n",
              "      padding: 0 0 0 0;\n",
              "      width: 32px;\n",
              "    }\n",
              "\n",
              "    .colab-df-convert:hover {\n",
              "      background-color: #E2EBFA;\n",
              "      box-shadow: 0px 1px 2px rgba(60, 64, 67, 0.3), 0px 1px 3px 1px rgba(60, 64, 67, 0.15);\n",
              "      fill: #174EA6;\n",
              "    }\n",
              "\n",
              "    [theme=dark] .colab-df-convert {\n",
              "      background-color: #3B4455;\n",
              "      fill: #D2E3FC;\n",
              "    }\n",
              "\n",
              "    [theme=dark] .colab-df-convert:hover {\n",
              "      background-color: #434B5C;\n",
              "      box-shadow: 0px 1px 3px 1px rgba(0, 0, 0, 0.15);\n",
              "      filter: drop-shadow(0px 1px 2px rgba(0, 0, 0, 0.3));\n",
              "      fill: #FFFFFF;\n",
              "    }\n",
              "  </style>\n",
              "\n",
              "      <script>\n",
              "        const buttonEl =\n",
              "          document.querySelector('#df-e008f0cf-bdb4-49ec-b9b5-f6ad8a08dcf2 button.colab-df-convert');\n",
              "        buttonEl.style.display =\n",
              "          google.colab.kernel.accessAllowed ? 'block' : 'none';\n",
              "\n",
              "        async function convertToInteractive(key) {\n",
              "          const element = document.querySelector('#df-e008f0cf-bdb4-49ec-b9b5-f6ad8a08dcf2');\n",
              "          const dataTable =\n",
              "            await google.colab.kernel.invokeFunction('convertToInteractive',\n",
              "                                                     [key], {});\n",
              "          if (!dataTable) return;\n",
              "\n",
              "          const docLinkHtml = 'Like what you see? Visit the ' +\n",
              "            '<a target=\"_blank\" href=https://colab.research.google.com/notebooks/data_table.ipynb>data table notebook</a>'\n",
              "            + ' to learn more about interactive tables.';\n",
              "          element.innerHTML = '';\n",
              "          dataTable['output_type'] = 'display_data';\n",
              "          await google.colab.output.renderOutput(dataTable, element);\n",
              "          const docLink = document.createElement('div');\n",
              "          docLink.innerHTML = docLinkHtml;\n",
              "          element.appendChild(docLink);\n",
              "        }\n",
              "      </script>\n",
              "    </div>\n",
              "  </div>\n",
              "  "
            ]
          },
          "metadata": {},
          "execution_count": 283
        },
        {
          "output_type": "display_data",
          "data": {
            "text/plain": [
              "<Figure size 720x360 with 2 Axes>"
            ],
            "image/png": "[encoded data removed]"
          },
          "metadata": {
            "needs_background": "light"
          }
        }
      ]
    },
    {
      "cell_type": "code",
      "source": [
        "#There is a high correlation between the size of the house (sqrt_ft) and the sold price, as expected, also due to the amount of bathrooms. And the bathrooms are higly correlated to bedrooms"
      ],
      "metadata": {
        "id": "-lXXLXRy0Pne"
      },
      "execution_count": null,
      "outputs": []
    },
    {
      "cell_type": "markdown",
      "source": [
        "## Searching for outliers\n"
      ],
      "metadata": {
        "id": "bui_JtoXq147"
      }
    },
    {
      "cell_type": "code",
      "source": [
        "#Getting the box plots of all numerical variables\n",
        "df=df_drop\n",
        "print(df.shape)\n",
        "#sns.boxplot(x=df['sqrt_ft'])\n",
        "#sns.boxplot(x=df['sold_price'])\n",
        "#sns.boxplot(x=df['zipcode'])\n",
        "#sns.boxplot(x=df['lot_acres'])\n",
        "#sns.boxplot(x=df['taxes'])\n",
        "#sns.boxplot(x=df['bedrooms'])\n",
        "#sns.boxplot(x=df['year_built'])\n",
        "#sns.boxplot(x=df['bathrooms'])\n",
        "#sns.boxplot(x=df['garage'])\n",
        "sns.boxplot(x=df['fireplaces'])\n",
        "plt.show()"
      ],
      "metadata": {
        "id": "c2NBQK2DC1lq",
        "colab": {
          "base_uri": "https://localhost:8080/",
          "height": 296
        },
        "outputId": "b5c120a9-89cf-43c6-cd06-f9d94b993f25"
      },
      "execution_count": 39,
      "outputs": [
        {
          "output_type": "stream",
          "name": "stdout",
          "text": [
            "(4973, 15)\n"
          ]
        },
        {
          "output_type": "display_data",
          "data": {
            "text/plain": [
              "<Figure size 432x288 with 1 Axes>"
            ],
            "image/png": "[encoded data removed]"
          },
          "metadata": {
            "needs_background": "light"
          }
        }
      ]
    },
    {
      "cell_type": "code",
      "source": [
        "##Getting an IQR analysis\n",
        "Q1 = df.quantile(0.25)\n",
        "Q3 = df.quantile(0.75)\n",
        "IQR = Q3 - Q1\n",
        "print(IQR)"
      ],
      "metadata": {
        "id": "qBUdgwwKqZDl",
        "colab": {
          "base_uri": "https://localhost:8080/",
          "height": 0
        },
        "outputId": "fa1635b2-3cc4-4fbc-a972-6991f6eea8f3"
      },
      "execution_count": 40,
      "outputs": [
        {
          "output_type": "stream",
          "name": "stdout",
          "text": [
            "sold_price    252500.00\n",
            "zipcode           32.00\n",
            "lot_acres          1.17\n",
            "taxes           3283.00\n",
            "year_built        19.00\n",
            "bedrooms           1.00\n",
            "bathrooms          1.00\n",
            "sqrt_ft         1084.00\n",
            "garage             1.00\n",
            "fireplaces         2.00\n",
            "HOA             2005.00\n",
            "dtype: float64\n"
          ]
        }
      ]
    },
    {
      "cell_type": "code",
      "source": [
        "df = df[~(df['fireplaces'] > 6)]\n",
        "df.shape"
      ],
      "metadata": {
        "colab": {
          "base_uri": "https://localhost:8080/",
          "height": 0
        },
        "id": "PNpGD1TYOC3N",
        "outputId": "807541d4-ea67-4ba9-bc7b-1f998a6e0126"
      },
      "execution_count": 41,
      "outputs": [
        {
          "output_type": "execute_result",
          "data": {
            "text/plain": [
              "(4961, 15)"
            ]
          },
          "metadata": {},
          "execution_count": 41
        }
      ]
    },
    {
      "cell_type": "code",
      "source": [
        "#Based on the plots, we eliminate the significant outliers\n",
        "df = df[~(df['garage'] > 15)]\n",
        "df = df[~(df['bathrooms'] > 20)]\n",
        "df = df[~(df['bedrooms'] > 15)]\n",
        "df = df[~(df['taxes'] ==0)]\n"
      ],
      "metadata": {
        "id": "uDDvqm_9RZ8e"
      },
      "execution_count": 42,
      "outputs": []
    },
    {
      "cell_type": "code",
      "source": [
        "df.shape"
      ],
      "metadata": {
        "colab": {
          "base_uri": "https://localhost:8080/",
          "height": 0
        },
        "id": "M9xJrOqsKO2d",
        "outputId": "7dc8e037-90d5-468d-9a30-ce287592cb7c"
      },
      "execution_count": 43,
      "outputs": [
        {
          "output_type": "execute_result",
          "data": {
            "text/plain": [
              "(4930, 15)"
            ]
          },
          "metadata": {},
          "execution_count": 43
        }
      ]
    },
    {
      "cell_type": "code",
      "source": [
        "df = df[~(df['lot_acres'] > 500)]\n",
        "df = df[~(df['lot_acres']==0)]\n",
        "df = df[~(df['sold_price'] > 3000000)]\n",
        "df = df[~(df['sqrt_ft'] >10000)]"
      ],
      "metadata": {
        "id": "gtaK0QNESgWb"
      },
      "execution_count": 44,
      "outputs": []
    },
    {
      "cell_type": "code",
      "source": [
        "#We get the final shape of the data\n",
        "df.shape"
      ],
      "metadata": {
        "colab": {
          "base_uri": "https://localhost:8080/",
          "height": 0
        },
        "id": "64D-0jrcTzTk",
        "outputId": "9de383d5-9e0d-4522-92b3-a5243fc646a4"
      },
      "execution_count": 45,
      "outputs": [
        {
          "output_type": "execute_result",
          "data": {
            "text/plain": [
              "(4877, 15)"
            ]
          },
          "metadata": {},
          "execution_count": 45
        }
      ]
    },
    {
      "cell_type": "code",
      "source": [
        ""
      ],
      "metadata": {
        "id": "DaZNE0wjT0_v"
      },
      "execution_count": null,
      "outputs": []
    },
    {
      "cell_type": "markdown",
      "source": [
        "# Encoding Kitchen features and floor covering\n"
      ],
      "metadata": {
        "id": "aqSOcivWwGhA"
      }
    },
    {
      "cell_type": "code",
      "source": [
        "##We observe in the data, we have a lot of data in the kitchen features column. We need a way to have access to all of these features.\n",
        "#Fisrt we select the kitchen column\n",
        "features=df_drop['kitchen_features']\n",
        "elements=[]\n",
        "coder=[]\n",
        "label=[]\n",
        "\n",
        "##We loop over the total elements in the kitchn columns to extract the unique ones.\n",
        "for i in features:\n",
        "  el=i.lower().split(',')\n",
        "  elements=elements+el\n",
        "\n",
        "##Then we observe that existed elements with some descriptions, so we would need to add these descriptions \n",
        "for j in elements:\n",
        "  if(':' in j):\n",
        "    x=i.split(':')[0]\n",
        "    label.append(x)\n",
        "  else:\n",
        "    label.append(j)\n",
        "##In this way we construct our vector of unique kitchen items\n",
        "label=np.unique(label)#This vector will be the base of the order of the coder's elements.\n",
        "\n",
        "#Now, we create our vector of zeros and ones depending on the case. \n",
        "#If the house has the item it would be one and zero otherwise. Once again, depending on the labels list\n",
        "\n",
        "for s in features:\n",
        "  vec=np.zeros(len(label))\n",
        "  ele=i.lower().split(',')\n",
        "  for k in ele:\n",
        "    if ':' in k:\n",
        "      k=k.split(':')[0]\n",
        "    for r in range(len(label)):\n",
        "      if(label[r] ==k):\n",
        "        vec[r]=1\n",
        "  coder.append(vec)\n",
        "\n",
        "##The order of the coder depends on the order of the label list\n",
        "df_drop['kitchen coder']=coder"
      ],
      "metadata": {
        "id": "6z2BT8u_wOeq"
      },
      "execution_count": 46,
      "outputs": []
    },
    {
      "cell_type": "code",
      "source": [
        "#Fisrt we select the floor_covering column\n",
        "features=df_drop['floor_covering']\n",
        "elements=[]\n",
        "coder=[]\n",
        "label=[]\n",
        "\n",
        "##We loop over the total elements in the kitchn columns to extract the unique ones.\n",
        "for i in features:\n",
        "  el=i.lower().split(',')\n",
        "  elements=elements+el\n",
        "\n",
        "##Then we observe that exists elementes with the other feature, so we would need to add this other characteristic \n",
        "for j in elements:\n",
        "  if(':' in j):\n",
        "    x=i.split(':')[0]\n",
        "    label.append(x)\n",
        "  else:\n",
        "    label.append(j)\n",
        "##In this way we construct our vector of unique kitchen items\n",
        "label=np.unique(label)\n",
        "##print(label)\n",
        "\n",
        "#Now, we create our vector of zeros and ones depending on the case. \n",
        "#If the house has the item it would be one and zero otherwise. Once again, depending on the label list\n",
        "\n",
        "for s in features:\n",
        "  vec=np.zeros(len(label))\n",
        "  ele=i.lower().split(',')\n",
        "  for k in ele:\n",
        "    if ':' in k:\n",
        "      k=k.split(':')[0]\n",
        "    for r in range(len(label)):\n",
        "      if(label[r] ==k):\n",
        "        vec[r]=1\n",
        "  coder.append(vec)\n",
        "\n",
        "##The order of the coder depends on the order of the label list\n",
        "df_drop['floor coder']=coder"
      ],
      "metadata": {
        "id": "sbBfq0Jx_62Y"
      },
      "execution_count": 49,
      "outputs": []
    },
    {
      "cell_type": "code",
      "source": [
        "df_drop.head(5)"
      ],
      "metadata": {
        "colab": {
          "base_uri": "https://localhost:8080/",
          "height": 1069
        },
        "id": "O6mEXKFb_eIT",
        "outputId": "0c627cb2-7f36-48c4-d75c-4943ac8688e3"
      },
      "execution_count": 50,
      "outputs": [
        {
          "output_type": "execute_result",
          "data": {
            "text/plain": [
              "   sold_price  zipcode     longitude    latitude  lot_acres     taxes  \\\n",
              "0   5300000.0    85637    -1.103.782  31.356.362    2154.00   5272.00   \n",
              "1   4200000.0    85646  -111.045.371  31.594.213    1707.00  10422.36   \n",
              "2   4200000.0    85646  -111.040.707  31.594.844    1707.00  10482.00   \n",
              "3   4500000.0    85646  -111.035.925  31.645.878     636.67   8418.58   \n",
              "4   3411450.0    85750  -110.813.768  32.285.162       3.21  15393.00   \n",
              "\n",
              "   year_built  bedrooms  bathrooms  sqrt_ft  garage  \\\n",
              "0        1941        13       10.0  10500.0       0   \n",
              "1        1997         2        2.0   7300.0       0   \n",
              "2        1997         2        3.0      0.0       0   \n",
              "3        1930         7        5.0   9019.0       4   \n",
              "4        1995         4        6.0   6396.0       3   \n",
              "\n",
              "                                    kitchen_features  fireplaces  \\\n",
              "0            Dishwasher, Freezer, Refrigerator, Oven         6.0   \n",
              "1                       Dishwasher, Garbage Disposal         5.0   \n",
              "2         Dishwasher, Garbage Disposal, Refrigerator         5.0   \n",
              "3  Dishwasher, Double Sink, Pantry: Butler, Refri...         4.0   \n",
              "4  Dishwasher, Garbage Disposal, Refrigerator, Mi...         5.0   \n",
              "\n",
              "                 floor_covering   HOA  \\\n",
              "0            Mexican Tile, Wood  2006   \n",
              "1          Natural Stone, Other  2006   \n",
              "2    Natural Stone, Other: Rock  2006   \n",
              "3  Ceramic Tile, Laminate, Wood  2006   \n",
              "4              Carpet, Concrete     5   \n",
              "\n",
              "                                       kitchen coder  \\\n",
              "0  [0.0, 0.0, 0.0, 0.0, 0.0, 0.0, 1.0, 1.0, 0.0, ...   \n",
              "1  [0.0, 0.0, 0.0, 0.0, 0.0, 0.0, 1.0, 1.0, 0.0, ...   \n",
              "2  [0.0, 0.0, 0.0, 0.0, 0.0, 0.0, 1.0, 1.0, 0.0, ...   \n",
              "3  [0.0, 0.0, 0.0, 0.0, 0.0, 0.0, 1.0, 1.0, 0.0, ...   \n",
              "4  [0.0, 0.0, 0.0, 0.0, 0.0, 0.0, 1.0, 1.0, 0.0, ...   \n",
              "\n",
              "                                         floor coder  \n",
              "0  [0.0, 0.0, 0.0, 0.0, 0.0, 1.0, 0.0, 0.0, 0.0, ...  \n",
              "1  [0.0, 0.0, 0.0, 0.0, 0.0, 1.0, 0.0, 0.0, 0.0, ...  \n",
              "2  [0.0, 0.0, 0.0, 0.0, 0.0, 1.0, 0.0, 0.0, 0.0, ...  \n",
              "3  [0.0, 0.0, 0.0, 0.0, 0.0, 1.0, 0.0, 0.0, 0.0, ...  \n",
              "4  [0.0, 0.0, 0.0, 0.0, 0.0, 1.0, 0.0, 0.0, 0.0, ...  "
            ],
            "text/html": [
              "\n",
              "  <div id=\"df-10a81f95-c316-4586-9cd6-ea785e44fd97\">\n",
              "    <div class=\"colab-df-container\">\n",
              "      <div>\n",
              "<style scoped>\n",
              "    .dataframe tbody tr th:only-of-type {\n",
              "        vertical-align: middle;\n",
              "    }\n",
              "\n",
              "    .dataframe tbody tr th {\n",
              "        vertical-align: top;\n",
              "    }\n",
              "\n",
              "    .dataframe thead th {\n",
              "        text-align: right;\n",
              "    }\n",
              "</style>\n",
              "<table border=\"1\" class=\"dataframe\">\n",
              "  <thead>\n",
              "    <tr style=\"text-align: right;\">\n",
              "      <th></th>\n",
              "      <th>sold_price</th>\n",
              "      <th>zipcode</th>\n",
              "      <th>longitude</th>\n",
              "      <th>latitude</th>\n",
              "      <th>lot_acres</th>\n",
              "      <th>taxes</th>\n",
              "      <th>year_built</th>\n",
              "      <th>bedrooms</th>\n",
              "      <th>bathrooms</th>\n",
              "      <th>sqrt_ft</th>\n",
              "      <th>garage</th>\n",
              "      <th>kitchen_features</th>\n",
              "      <th>fireplaces</th>\n",
              "      <th>floor_covering</th>\n",
              "      <th>HOA</th>\n",
              "      <th>kitchen coder</th>\n",
              "      <th>floor coder</th>\n",
              "    </tr>\n",
              "  </thead>\n",
              "  <tbody>\n",
              "    <tr>\n",
              "      <th>0</th>\n",
              "      <td>5300000.0</td>\n",
              "      <td>85637</td>\n",
              "      <td>-1.103.782</td>\n",
              "      <td>31.356.362</td>\n",
              "      <td>2154.00</td>\n",
              "      <td>5272.00</td>\n",
              "      <td>1941</td>\n",
              "      <td>13</td>\n",
              "      <td>10.0</td>\n",
              "      <td>10500.0</td>\n",
              "      <td>0</td>\n",
              "      <td>Dishwasher, Freezer, Refrigerator, Oven</td>\n",
              "      <td>6.0</td>\n",
              "      <td>Mexican Tile, Wood</td>\n",
              "      <td>2006</td>\n",
              "      <td>[0.0, 0.0, 0.0, 0.0, 0.0, 0.0, 1.0, 1.0, 0.0, ...</td>\n",
              "      <td>[0.0, 0.0, 0.0, 0.0, 0.0, 1.0, 0.0, 0.0, 0.0, ...</td>\n",
              "    </tr>\n",
              "    <tr>\n",
              "      <th>1</th>\n",
              "      <td>4200000.0</td>\n",
              "      <td>85646</td>\n",
              "      <td>-111.045.371</td>\n",
              "      <td>31.594.213</td>\n",
              "      <td>1707.00</td>\n",
              "      <td>10422.36</td>\n",
              "      <td>1997</td>\n",
              "      <td>2</td>\n",
              "      <td>2.0</td>\n",
              "      <td>7300.0</td>\n",
              "      <td>0</td>\n",
              "      <td>Dishwasher, Garbage Disposal</td>\n",
              "      <td>5.0</td>\n",
              "      <td>Natural Stone, Other</td>\n",
              "      <td>2006</td>\n",
              "      <td>[0.0, 0.0, 0.0, 0.0, 0.0, 0.0, 1.0, 1.0, 0.0, ...</td>\n",
              "      <td>[0.0, 0.0, 0.0, 0.0, 0.0, 1.0, 0.0, 0.0, 0.0, ...</td>\n",
              "    </tr>\n",
              "    <tr>\n",
              "      <th>2</th>\n",
              "      <td>4200000.0</td>\n",
              "      <td>85646</td>\n",
              "      <td>-111.040.707</td>\n",
              "      <td>31.594.844</td>\n",
              "      <td>1707.00</td>\n",
              "      <td>10482.00</td>\n",
              "      <td>1997</td>\n",
              "      <td>2</td>\n",
              "      <td>3.0</td>\n",
              "      <td>0.0</td>\n",
              "      <td>0</td>\n",
              "      <td>Dishwasher, Garbage Disposal, Refrigerator</td>\n",
              "      <td>5.0</td>\n",
              "      <td>Natural Stone, Other: Rock</td>\n",
              "      <td>2006</td>\n",
              "      <td>[0.0, 0.0, 0.0, 0.0, 0.0, 0.0, 1.0, 1.0, 0.0, ...</td>\n",
              "      <td>[0.0, 0.0, 0.0, 0.0, 0.0, 1.0, 0.0, 0.0, 0.0, ...</td>\n",
              "    </tr>\n",
              "    <tr>\n",
              "      <th>3</th>\n",
              "      <td>4500000.0</td>\n",
              "      <td>85646</td>\n",
              "      <td>-111.035.925</td>\n",
              "      <td>31.645.878</td>\n",
              "      <td>636.67</td>\n",
              "      <td>8418.58</td>\n",
              "      <td>1930</td>\n",
              "      <td>7</td>\n",
              "      <td>5.0</td>\n",
              "      <td>9019.0</td>\n",
              "      <td>4</td>\n",
              "      <td>Dishwasher, Double Sink, Pantry: Butler, Refri...</td>\n",
              "      <td>4.0</td>\n",
              "      <td>Ceramic Tile, Laminate, Wood</td>\n",
              "      <td>2006</td>\n",
              "      <td>[0.0, 0.0, 0.0, 0.0, 0.0, 0.0, 1.0, 1.0, 0.0, ...</td>\n",
              "      <td>[0.0, 0.0, 0.0, 0.0, 0.0, 1.0, 0.0, 0.0, 0.0, ...</td>\n",
              "    </tr>\n",
              "    <tr>\n",
              "      <th>4</th>\n",
              "      <td>3411450.0</td>\n",
              "      <td>85750</td>\n",
              "      <td>-110.813.768</td>\n",
              "      <td>32.285.162</td>\n",
              "      <td>3.21</td>\n",
              "      <td>15393.00</td>\n",
              "      <td>1995</td>\n",
              "      <td>4</td>\n",
              "      <td>6.0</td>\n",
              "      <td>6396.0</td>\n",
              "      <td>3</td>\n",
              "      <td>Dishwasher, Garbage Disposal, Refrigerator, Mi...</td>\n",
              "      <td>5.0</td>\n",
              "      <td>Carpet, Concrete</td>\n",
              "      <td>5</td>\n",
              "      <td>[0.0, 0.0, 0.0, 0.0, 0.0, 0.0, 1.0, 1.0, 0.0, ...</td>\n",
              "      <td>[0.0, 0.0, 0.0, 0.0, 0.0, 1.0, 0.0, 0.0, 0.0, ...</td>\n",
              "    </tr>\n",
              "  </tbody>\n",
              "</table>\n",
              "</div>\n",
              "      <button class=\"colab-df-convert\" onclick=\"convertToInteractive('df-10a81f95-c316-4586-9cd6-ea785e44fd97')\"\n",
              "              title=\"Convert this dataframe to an interactive table.\"\n",
              "              style=\"display:none;\">\n",
              "        \n",
              "  <svg xmlns=\"http://www.w3.org/2000/svg\" height=\"24px\"viewBox=\"0 0 24 24\"\n",
              "       width=\"24px\">\n",
              "    <path d=\"M0 0h24v24H0V0z\" fill=\"none\"/>\n",
              "    <path d=\"M18.56 5.44l.94 2.06.94-2.06 2.06-.94-2.06-.94-.94-2.06-.94 2.06-2.06.94zm-11 1L8.5 8.5l.94-2.06 2.06-.94-2.06-.94L8.5 2.5l-.94 2.06-2.06.94zm10 10l.94 2.06.94-2.06 2.06-.94-2.06-.94-.94-2.06-.94 2.06-2.06.94z\"/><path d=\"M17.41 7.96l-1.37-1.37c-.4-.4-.92-.59-1.43-.59-.52 0-1.04.2-1.43.59L10.3 9.45l-7.72 7.72c-.78.78-.78 2.05 0 2.83L4 21.41c.39.39.9.59 1.41.59.51 0 1.02-.2 1.41-.59l7.78-7.78 2.81-2.81c.8-.78.8-2.07 0-2.86zM5.41 20L4 18.59l7.72-7.72 1.47 1.35L5.41 20z\"/>\n",
              "  </svg>\n",
              "      </button>\n",
              "      \n",
              "  <style>\n",
              "    .colab-df-container {\n",
              "      display:flex;\n",
              "      flex-wrap:wrap;\n",
              "      gap: 12px;\n",
              "    }\n",
              "\n",
              "    .colab-df-convert {\n",
              "      background-color: #E8F0FE;\n",
              "      border: none;\n",
              "      border-radius: 50%;\n",
              "      cursor: pointer;\n",
              "      display: none;\n",
              "      fill: #1967D2;\n",
              "      height: 32px;\n",
              "      padding: 0 0 0 0;\n",
              "      width: 32px;\n",
              "    }\n",
              "\n",
              "    .colab-df-convert:hover {\n",
              "      background-color: #E2EBFA;\n",
              "      box-shadow: 0px 1px 2px rgba(60, 64, 67, 0.3), 0px 1px 3px 1px rgba(60, 64, 67, 0.15);\n",
              "      fill: #174EA6;\n",
              "    }\n",
              "\n",
              "    [theme=dark] .colab-df-convert {\n",
              "      background-color: #3B4455;\n",
              "      fill: #D2E3FC;\n",
              "    }\n",
              "\n",
              "    [theme=dark] .colab-df-convert:hover {\n",
              "      background-color: #434B5C;\n",
              "      box-shadow: 0px 1px 3px 1px rgba(0, 0, 0, 0.15);\n",
              "      filter: drop-shadow(0px 1px 2px rgba(0, 0, 0, 0.3));\n",
              "      fill: #FFFFFF;\n",
              "    }\n",
              "  </style>\n",
              "\n",
              "      <script>\n",
              "        const buttonEl =\n",
              "          document.querySelector('#df-10a81f95-c316-4586-9cd6-ea785e44fd97 button.colab-df-convert');\n",
              "        buttonEl.style.display =\n",
              "          google.colab.kernel.accessAllowed ? 'block' : 'none';\n",
              "\n",
              "        async function convertToInteractive(key) {\n",
              "          const element = document.querySelector('#df-10a81f95-c316-4586-9cd6-ea785e44fd97');\n",
              "          const dataTable =\n",
              "            await google.colab.kernel.invokeFunction('convertToInteractive',\n",
              "                                                     [key], {});\n",
              "          if (!dataTable) return;\n",
              "\n",
              "          const docLinkHtml = 'Like what you see? Visit the ' +\n",
              "            '<a target=\"_blank\" href=https://colab.research.google.com/notebooks/data_table.ipynb>data table notebook</a>'\n",
              "            + ' to learn more about interactive tables.';\n",
              "          element.innerHTML = '';\n",
              "          dataTable['output_type'] = 'display_data';\n",
              "          await google.colab.output.renderOutput(dataTable, element);\n",
              "          const docLink = document.createElement('div');\n",
              "          docLink.innerHTML = docLinkHtml;\n",
              "          element.appendChild(docLink);\n",
              "        }\n",
              "      </script>\n",
              "    </div>\n",
              "  </div>\n",
              "  "
            ]
          },
          "metadata": {},
          "execution_count": 50
        }
      ]
    },
    {
      "cell_type": "code",
      "source": [
        ""
      ],
      "metadata": {
        "id": "oMhIm3ujKXlp"
      },
      "execution_count": null,
      "outputs": []
    }
  ]
}